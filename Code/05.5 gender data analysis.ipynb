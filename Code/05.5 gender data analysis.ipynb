{
 "cells": [
  {
   "cell_type": "code",
   "execution_count": 5,
   "metadata": {},
   "outputs": [],
   "source": [
    "setwd(\"~/dropbox/paris21/r/press\")\n",
    "source(\"Code/00. boot.R\")"
   ]
  },
  {
   "cell_type": "code",
   "execution_count": 6,
   "metadata": {},
   "outputs": [],
   "source": [
    "df_crs <- read_rds(\"data/intermediate/crs05.3_onlystats_utf8_full.rds\")"
   ]
  },
  {
   "cell_type": "code",
   "execution_count": 8,
   "metadata": {},
   "outputs": [
    {
     "data": {
      "text/html": [
       "<table class=\"dataframe\">\n",
       "<caption>A tibble: 15 × 2</caption>\n",
       "<thead>\n",
       "\t<tr><th scope=col>year</th><th scope=col>total</th></tr>\n",
       "\t<tr><th scope=col>&lt;int&gt;</th><th scope=col>&lt;dbl&gt;</th></tr>\n",
       "</thead>\n",
       "<tbody>\n",
       "\t<tr><td>2006</td><td>302.0273</td></tr>\n",
       "\t<tr><td>2007</td><td>291.4734</td></tr>\n",
       "\t<tr><td>2008</td><td>309.6129</td></tr>\n",
       "\t<tr><td>2009</td><td>338.8133</td></tr>\n",
       "\t<tr><td>2010</td><td>515.9757</td></tr>\n",
       "\t<tr><td>2011</td><td>439.0693</td></tr>\n",
       "\t<tr><td>2012</td><td>500.0318</td></tr>\n",
       "\t<tr><td>2013</td><td>560.2214</td></tr>\n",
       "\t<tr><td>2014</td><td>426.8235</td></tr>\n",
       "\t<tr><td>2015</td><td>538.1788</td></tr>\n",
       "\t<tr><td>2016</td><td>506.5246</td></tr>\n",
       "\t<tr><td>2017</td><td>442.8908</td></tr>\n",
       "\t<tr><td>2018</td><td>723.3776</td></tr>\n",
       "\t<tr><td>2019</td><td>636.8536</td></tr>\n",
       "\t<tr><td>2020</td><td>624.3116</td></tr>\n",
       "</tbody>\n",
       "</table>\n"
      ],
      "text/latex": [
       "A tibble: 15 × 2\n",
       "\\begin{tabular}{ll}\n",
       " year & total\\\\\n",
       " <int> & <dbl>\\\\\n",
       "\\hline\n",
       "\t 2006 & 302.0273\\\\\n",
       "\t 2007 & 291.4734\\\\\n",
       "\t 2008 & 309.6129\\\\\n",
       "\t 2009 & 338.8133\\\\\n",
       "\t 2010 & 515.9757\\\\\n",
       "\t 2011 & 439.0693\\\\\n",
       "\t 2012 & 500.0318\\\\\n",
       "\t 2013 & 560.2214\\\\\n",
       "\t 2014 & 426.8235\\\\\n",
       "\t 2015 & 538.1788\\\\\n",
       "\t 2016 & 506.5246\\\\\n",
       "\t 2017 & 442.8908\\\\\n",
       "\t 2018 & 723.3776\\\\\n",
       "\t 2019 & 636.8536\\\\\n",
       "\t 2020 & 624.3116\\\\\n",
       "\\end{tabular}\n"
      ],
      "text/markdown": [
       "\n",
       "A tibble: 15 × 2\n",
       "\n",
       "| year &lt;int&gt; | total &lt;dbl&gt; |\n",
       "|---|---|\n",
       "| 2006 | 302.0273 |\n",
       "| 2007 | 291.4734 |\n",
       "| 2008 | 309.6129 |\n",
       "| 2009 | 338.8133 |\n",
       "| 2010 | 515.9757 |\n",
       "| 2011 | 439.0693 |\n",
       "| 2012 | 500.0318 |\n",
       "| 2013 | 560.2214 |\n",
       "| 2014 | 426.8235 |\n",
       "| 2015 | 538.1788 |\n",
       "| 2016 | 506.5246 |\n",
       "| 2017 | 442.8908 |\n",
       "| 2018 | 723.3776 |\n",
       "| 2019 | 636.8536 |\n",
       "| 2020 | 624.3116 |\n",
       "\n"
      ],
      "text/plain": [
       "   year total   \n",
       "1  2006 302.0273\n",
       "2  2007 291.4734\n",
       "3  2008 309.6129\n",
       "4  2009 338.8133\n",
       "5  2010 515.9757\n",
       "6  2011 439.0693\n",
       "7  2012 500.0318\n",
       "8  2013 560.2214\n",
       "9  2014 426.8235\n",
       "10 2015 538.1788\n",
       "11 2016 506.5246\n",
       "12 2017 442.8908\n",
       "13 2018 723.3776\n",
       "14 2019 636.8536\n",
       "15 2020 624.3116"
      ]
     },
     "metadata": {},
     "output_type": "display_data"
    }
   ],
   "source": [
    "df_crs %>%\n",
    "    group_by(year)  %>% \n",
    "    summarise(total  = sum(usd_disbursement_defl))"
   ]
  }
 ],
 "metadata": {
  "kernelspec": {
   "display_name": "R",
   "language": "R",
   "name": "r"
  },
  "language_info": {
   "codemirror_mode": "r",
   "file_extension": ".r",
   "mimetype": "text/x-r-source",
   "name": "R",
   "pygments_lexer": "r",
   "version": "4.1.2"
  }
 },
 "nbformat": 4,
 "nbformat_minor": 5
}
